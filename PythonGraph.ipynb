{
 "cells": [
  {
   "cell_type": "code",
   "execution_count": null,
   "metadata": {},
   "outputs": [],
   "source": [
    "# Module Import(s)\n",
    "import matplotlib.pyplot as plt\n",
    "# Variable(s)\n",
    "medianHousePrices = [48, 187, 132, 499]\n",
    "years = list(range(1960, 2040, 20))\n",
    "price = list(range(50,550, 50))\n",
    "# Dark Background\n",
    "plt.style.use(\"dark_background\")\n",
    "# Creating Line Plot\n",
    "plt.plot(years, medianHousePrices, c=\"red\")\n",
    "plt.xlabel(\"Years\")\n",
    "plt.xticks(years, [f\"{y}\" for y in years])\n",
    "plt.title(\"Median House Prices (1960 - 2020) | Country Z\")\n",
    "plt.ylabel(\"Price (€)\")\n",
    "plt.yticks(price, [f\"{p}K\" for p in price])\n",
    "# Showing Graph\n",
    "plt.show()"
   ]
  }
 ],
 "metadata": {
  "kernelspec": {
   "display_name": "Python 3",
   "language": "python",
   "name": "python3"
  },
  "language_info": {
   "codemirror_mode": {
    "name": "ipython",
    "version": 3
   },
   "file_extension": ".py",
   "mimetype": "text/x-python",
   "name": "python",
   "nbconvert_exporter": "python",
   "pygments_lexer": "ipython3",
   "version": "3.11.4"
  }
 },
 "nbformat": 4,
 "nbformat_minor": 2
}
